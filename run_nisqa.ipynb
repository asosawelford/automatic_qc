{
 "cells": [
  {
   "cell_type": "markdown",
   "id": "ca2a38db",
   "metadata": {},
   "source": [
    "# Run NISQA 2.0 on folder"
   ]
  },
  {
   "cell_type": "markdown",
   "id": "4efe7b78",
   "metadata": {},
   "source": [
    "python run_predict.py --mode predict_dir --pretrained_model weights/nisqa.tar --data_dir /home/aleph/Desktop/arequipa_test --num_workers 0 --bs 10 --output_dir /home/aleph/Desktop"
   ]
  },
  {
   "cell_type": "markdown",
   "id": "26755d44",
   "metadata": {},
   "source": []
  }
 ],
 "metadata": {
  "kernelspec": {
   "display_name": "nisqa",
   "language": "python",
   "name": "python3"
  },
  "language_info": {
   "name": "python",
   "version": "3.9.9"
  }
 },
 "nbformat": 4,
 "nbformat_minor": 5
}
